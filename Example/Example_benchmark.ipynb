{
 "cells": [
  {
   "cell_type": "markdown",
   "source": [
    "# Example of use of the dataset for wear classification"
   ],
   "metadata": {
    "collapsed": false
   },
   "id": "32ef817150f45714"
  },
  {
   "cell_type": "code",
   "execution_count": null,
   "outputs": [],
   "source": [
    "# Import Lib\n",
    "import utils_punchdataset.loader\n",
    "import pandas as pd\n",
    "import numpy as np\n",
    "import pycaret\n",
    "import os\n",
    "from sklearn.decomposition import PCA\n",
    "import cv2"
   ],
   "metadata": {
    "collapsed": false,
    "is_executing": true
   },
   "id": "initial_id"
  },
  {
   "cell_type": "markdown",
   "source": [
    "## Load dataset"
   ],
   "metadata": {
    "collapsed": false
   },
   "id": "c7bf16ea94b6b4cb"
  },
  {
   "cell_type": "code",
   "execution_count": null,
   "outputs": [],
   "source": [
    "path = os.path.join(\"D:\\\\Arbeit\\\\V32\\\\punch_dataset\",\"LookUp.csv\")\n",
    "data=loader.punch_data(path)"
   ],
   "metadata": {
    "collapsed": false
   },
   "id": "60e4e19cad6eb3e1"
  },
  {
   "cell_type": "markdown",
   "source": [
    "## Preprocessing of data (PCA)"
   ],
   "metadata": {
    "collapsed": false
   },
   "id": "bc93b27ab060357"
  },
  {
   "cell_type": "markdown",
   "source": [
    "### PCA Images"
   ],
   "metadata": {
    "collapsed": false
   },
   "id": "bc495c88d31aaea9"
  },
  {
   "cell_type": "code",
   "execution_count": null,
   "outputs": [],
   "source": [
    "im = cv2.imread(os.path.join(basepic,impath),0)\n",
    "d = cv2.resize(im, (256,256))\n",
    "img.append(d.flatten())"
   ],
   "metadata": {
    "collapsed": false
   },
   "id": "400735d5f8994f3c"
  },
  {
   "cell_type": "code",
   "execution_count": null,
   "outputs": [],
   "source": [
    "#IM gonna be data\n",
    "pca_test_im = PCA(n_components=2500)  #\n",
    "pca_test_im.fit(np.nan_to_num(im))\n",
    "pca_sum_im = np.cumsum(pca_test_im.explained_variance_ratio_)\n",
    "index_99_im = pca_sum_im < 0.90\n",
    "val_im, counts_im = np.unique(index_99_im,return_counts=True)\n",
    "pca_im = PCA(n_components=counts_im[1])"
   ],
   "metadata": {
    "collapsed": false
   },
   "id": "51ece815c34a3c0e"
  },
  {
   "cell_type": "markdown",
   "source": [
    "### PCA Force"
   ],
   "metadata": {
    "collapsed": false
   },
   "id": "c696b6855ac1b871"
  },
  {
   "cell_type": "code",
   "execution_count": null,
   "outputs": [],
   "source": [
    "data = pd.read_csv((i), sep='\\t')\n",
    "force.append(i_forces)"
   ],
   "metadata": {
    "collapsed": false
   },
   "id": "eda3e08023a5b913"
  },
  {
   "cell_type": "code",
   "execution_count": null,
   "outputs": [],
   "source": [
    "#f gonna be data\n",
    "pca_test_f = PCA(n_components=500)  #\n",
    "pca_test_f.fit(np.nan_to_num(f))\n",
    "pca_sum_f = np.cumsum(pca_test_f.explained_variance_ratio_)\n",
    "index_99_f = pca_sum_f < 0.99\n",
    "val_f, counts_f = np.unique(index_99_f,return_counts=True)\n",
    "pca_f = PCA(n_components=counts_f[1])"
   ],
   "metadata": {
    "collapsed": false
   },
   "id": "6d618fbdef8b9b2c"
  },
  {
   "cell_type": "markdown",
   "source": [
    "### PCA AE"
   ],
   "metadata": {
    "collapsed": false
   },
   "id": "e52344474c07cc23"
  },
  {
   "cell_type": "code",
   "execution_count": null,
   "outputs": [],
   "source": [
    "data = pd.read_csv((i), sep='\\t')\n",
    "ae.append(i_ae)"
   ],
   "metadata": {
    "collapsed": false
   },
   "id": "971732c417c81620"
  },
  {
   "cell_type": "code",
   "execution_count": null,
   "outputs": [],
   "source": [
    "#ae gonna be data\n",
    "pca_test_ae = PCA(n_components=2500)  #\n",
    "pca_test_ae.fit(np.nan_to_num(ae))\n",
    "pca_sum_ae = np.cumsum(pca_test_ae.explained_variance_ratio_)\n",
    "index_99_ae = pca_sum_ae < 0.99\n",
    "val_ae, counts_ae = np.unique(index_99_ae,return_counts=True)\n",
    "pca_ae = PCA(n_components=counts_ae[1])"
   ],
   "metadata": {
    "collapsed": false
   },
   "id": "58d7d2f782a3ec97"
  },
  {
   "cell_type": "markdown",
   "source": [
    "### Normalize Thickness"
   ],
   "metadata": {
    "collapsed": false
   },
   "id": "8f0a83006cee4c38"
  },
  {
   "cell_type": "code",
   "execution_count": null,
   "outputs": [],
   "source": [],
   "metadata": {
    "collapsed": false
   },
   "id": "ab4ccf32bab182b1"
  },
  {
   "cell_type": "markdown",
   "source": [
    "### Join reduced DataFrame"
   ],
   "metadata": {
    "collapsed": false
   },
   "id": "f02f5956f016906d"
  },
  {
   "cell_type": "code",
   "execution_count": null,
   "outputs": [],
   "source": [],
   "metadata": {
    "collapsed": false
   },
   "id": "ee36d9eae488f26a"
  },
  {
   "cell_type": "markdown",
   "source": [
    "## Show Label Distribution"
   ],
   "metadata": {
    "collapsed": false
   },
   "id": "93f5ed788c358696"
  },
  {
   "cell_type": "markdown",
   "source": [
    "Imbalenced, therefore F1-Score."
   ],
   "metadata": {
    "collapsed": false
   },
   "id": "9b503727b5704a2b"
  },
  {
   "cell_type": "markdown",
   "source": [
    "## Start PyCaret Experiment"
   ],
   "metadata": {
    "collapsed": false
   },
   "id": "225ceaad56a8e43b"
  }
 ],
 "metadata": {
  "kernelspec": {
   "display_name": "Python 3",
   "language": "python",
   "name": "python3"
  },
  "language_info": {
   "codemirror_mode": {
    "name": "ipython",
    "version": 2
   },
   "file_extension": ".py",
   "mimetype": "text/x-python",
   "name": "python",
   "nbconvert_exporter": "python",
   "pygments_lexer": "ipython2",
   "version": "2.7.6"
  }
 },
 "nbformat": 4,
 "nbformat_minor": 5
}
